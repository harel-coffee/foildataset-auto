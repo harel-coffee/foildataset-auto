{
 "cells": [
  {
   "cell_type": "code",
   "execution_count": 5,
   "metadata": {
    "collapsed": true
   },
   "outputs": [],
   "source": [
    "import json \n",
    "import numpy as np\n",
    "import re\n",
    "\n",
    "from collections import Counter"
   ]
  },
  {
   "cell_type": "code",
   "execution_count": 2,
   "metadata": {
    "collapsed": false
   },
   "outputs": [
    {
     "name": "stdout",
     "output_type": "stream",
     "text": [
      "123286\n"
     ]
    }
   ],
   "source": [
    "mscoco_yolo = json.load(open('/data/darknet/darknet_net_images/darknet-modified/mscoco_dataset.json'))\n",
    "print len(list(mscoco_yolo.keys()))"
   ]
  },
  {
   "cell_type": "code",
   "execution_count": 16,
   "metadata": {
    "collapsed": true
   },
   "outputs": [],
   "source": [
    "mscoco_train = dict([(k,v) for k,v in mscoco_yolo.items() if re.search('train', k)])\n",
    "mscoco_val = dict([(k,v) for k,v in mscoco_yolo.items() if re.search('val', k)])"
   ]
  },
  {
   "cell_type": "code",
   "execution_count": 32,
   "metadata": {
    "collapsed": true
   },
   "outputs": [],
   "source": [
    "unique_objects = [] \n",
    "\n",
    "train_objects = {}\n",
    "for k, v in mscoco_train.items():\n",
    "    val = dict(Counter([o[0] if len(o) >0 else [] for o in v ]))\n",
    "    train_objects[k] = val\n",
    "    [unique_objects.append(a) for a in val.keys()]\n",
    "    \n",
    "    \n",
    "    "
   ]
  },
  {
   "cell_type": "code",
   "execution_count": 62,
   "metadata": {
    "collapsed": true
   },
   "outputs": [],
   "source": [
    "fullvocab = list(set(unique_objects))\n",
    "vocabarr = np.zeros(len(fullvocab))\n",
    "\n",
    "train_im_feats = {}\n",
    "for k, v in train_objects.items(): \n",
    "    tmparr = np.zeros(len(fullvocab))\n",
    "    for o, f in v.items():\n",
    "        tmparr[fullvocab.index(o)] = f \n",
    "    train_im_feats[k] = tmparr\n",
    "        \n",
    "with open('/data/mscoco_feats/mscoco_yolo_9k_sota_train_full.txt', 'w') as f:\n",
    "    for key, val in train_im_feats.items():\n",
    "        f.write('%s %s\\n' % (key, ' '.join(map(str, val.tolist()))))\n",
    "        \n",
    "   "
   ]
  },
  {
   "cell_type": "code",
   "execution_count": 63,
   "metadata": {
    "collapsed": true
   },
   "outputs": [],
   "source": [
    "val_uniques = []\n",
    "val_objects = {}\n",
    "\n",
    "for k, v in mscoco_val.items():\n",
    "    val = dict(Counter([o[0] if len(o) >0 else [] for o in v ]))\n",
    "    val_objects[k] = val\n",
    "    [val_uniques.append(a) for a in val.keys()]"
   ]
  },
  {
   "cell_type": "code",
   "execution_count": 69,
   "metadata": {
    "collapsed": true
   },
   "outputs": [],
   "source": [
    "val_im_feats = {} \n",
    "for k, v in val_objects.items(): \n",
    "    tmparr = np.zeros(len(fullvocab))\n",
    "    for o, f in v.items():\n",
    "        if o in fullvocab: \n",
    "            tmparr[fullvocab.index(o)] = f\n",
    "    val_im_feats[k] = tmparr \n",
    "\n",
    "with open('/data/mscoco_feats/mscoco_yolo_9k_sota_val_full.txt', 'w') as f:\n",
    "    for key, val in val_im_feats.items():\n",
    "        f.write('%s %s\\n' % (key, ' '.join(map(str, val.tolist()))))\n"
   ]
  },
  {
   "cell_type": "code",
   "execution_count": 70,
   "metadata": {
    "collapsed": true
   },
   "outputs": [],
   "source": [
    "karpathy_val = [w.strip().split()[0] for w in open('data/mscoco_boc_gt_karpathy_5k_val.txt')]\n",
    "karpathy_test = [w.strip().split()[0] for w in open('data/mscoco_boc_gt_karpathy_5k_test.txt')]\n"
   ]
  },
  {
   "cell_type": "code",
   "execution_count": 71,
   "metadata": {
    "collapsed": true
   },
   "outputs": [],
   "source": [
    "with open('data/mscoco_yolo_9k_sota_karpathy_5k_val.txt', 'w') as f:\n",
    "    for key, val in val_im_feats.items():\n",
    "        if key in karpathy_val:\n",
    "            f.write('%s %s\\n' % (key, ' '.join(map(str, val.tolist()))))"
   ]
  },
  {
   "cell_type": "code",
   "execution_count": 72,
   "metadata": {
    "collapsed": true
   },
   "outputs": [],
   "source": [
    "with open('data/mscoco_yolo_9k_sota_karpathy_5k_test.txt', 'w') as f:\n",
    "    for key, val in val_im_feats.items():\n",
    "        if key in karpathy_test:\n",
    "            f.write('%s %s\\n' % (key, ' '.join(map(str, val.tolist()))))"
   ]
  },
  {
   "cell_type": "code",
   "execution_count": 74,
   "metadata": {
    "collapsed": false
   },
   "outputs": [
    {
     "data": {
      "text/plain": [
       "10.0"
      ]
     },
     "execution_count": 74,
     "metadata": {},
     "output_type": "execute_result"
    }
   ],
   "source": [
    "val_im_feats[k].sum()"
   ]
  },
  {
   "cell_type": "code",
   "execution_count": null,
   "metadata": {
    "collapsed": true
   },
   "outputs": [],
   "source": []
  }
 ],
 "metadata": {
  "kernelspec": {
   "display_name": "Python 2",
   "language": "python",
   "name": "python2"
  },
  "language_info": {
   "codemirror_mode": {
    "name": "ipython",
    "version": 2
   },
   "file_extension": ".py",
   "mimetype": "text/x-python",
   "name": "python",
   "nbconvert_exporter": "python",
   "pygments_lexer": "ipython2",
   "version": "2.7.12"
  }
 },
 "nbformat": 4,
 "nbformat_minor": 2
}
