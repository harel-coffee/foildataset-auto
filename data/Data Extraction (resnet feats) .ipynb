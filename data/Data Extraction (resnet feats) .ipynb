{
 "cells": [
  {
   "cell_type": "code",
   "execution_count": 2,
   "metadata": {
    "collapsed": true
   },
   "outputs": [],
   "source": [
    "import json\n",
    "import scipy.sparse as ss\n",
    "from sklearn.feature_extraction.text import CountVectorizer\n",
    "import numpy as np\n",
    "import scipy.io as sio\n",
    "\n",
    "np.random.seed(123)"
   ]
  },
  {
   "cell_type": "code",
   "execution_count": 7,
   "metadata": {
    "collapsed": false
   },
   "outputs": [],
   "source": [
    "foil_train = json.load(open('data/foilv1.0_train2017.json'))\n",
    "ourimagetrainfeats = [(int(w.strip().split(' ')[0].split('.jpg')[0].split('/data/mscoco/images/train/COCO_train2014_')[1]), \n",
    "                       np.array(map(float, w.strip().split(' ')[1:]))) \n",
    "                      for w in open('/data/mscoco_feats/ResNet152/ResNet152_pool5_train.txt')]\n",
    "ourimagetrainfeats = dict(ourimagetrainfeats)\n",
    "training_annotations = [l['caption'] for l in foil_train['annotations']]\n",
    "\n",
    "tf_vectorizer = CountVectorizer(max_features=None, lowercase=True)\n",
    "tf_model = tf_vectorizer.fit(training_annotations)\n",
    "training_feats = tf_model.transform(training_annotations)\n",
    "\n",
    "training_y = [0 if f['foil_word'] == 'ORIG' else 1 for f in foil_train['annotations']]\n",
    "training_image_feats = [ourimagetrainfeats[i['image_id']] for i in foil_train['annotations']]\n",
    "training_image_feats_sparse = np.array(training_image_feats)\n",
    "\n",
    "\n",
    "default = testing_image_feats[0]\n",
    "ourimagetestfeats = [(int(w.strip().split(' ')[0].split('.jpg')[0].split('/data/mscoco/images/val/COCO_val2014_')[1]),\n",
    "                     map(float, w.strip().split(' ')[1:])) \n",
    "                    for w in open('/data/mscoco_feats/ResNet152/ResNet152_fc_val.txt')]\n",
    "ourimagetestfeats = dict(ourimagetestfeats)\n",
    "foil_test = json.load(open('data/foilv1.0_test2017.json') )\n",
    "testing_annotations = [l['caption'] for l in foil_test['annotations']]\n",
    "testing_feats = tf_model.transform(testing_annotations) \n",
    "testing_y = [0 if f['foil_word'] == 'ORIG' else 1 for f in foil_test['annotations']]\n",
    "testing_image_feats = [ourimagetestfeats[i['image_id']] if i['image_id'] in ourimagetestfeats else default for i in foil_test['annotations']  ]\n",
    "testing_image_feats_sparse = np.array(testing_image_feats)"
   ]
  },
  {
   "cell_type": "code",
   "execution_count": 9,
   "metadata": {
    "collapsed": true
   },
   "outputs": [],
   "source": [
    "#sio.mmwrite('data/train_feats.mtx', training_feats)\n",
    "#sio.mmwrite('data/test_feats.mtx', testing_feats)\n",
    "#sio.mmwrite('data/train_image_feats_resnet.mtx', training_image_feats_sparse)\n",
    "#sio.mmwrite('data/test_image_feats_resnet.mtx', testing_image_feats_sparse)\n",
    "#sio.mmwrite('data/train_y.mtx', ss.csr_matrix(np.array(training_y)))\n",
    "#sio.mmwrite('data/test_y.mtx', ss.csr_matrix(np.array(testing_y)))\n",
    "\n",
    "np.save('data/train_image_feats_resnet.npy', training_image_feats_sparse)\n",
    "np.save('data/test_image_feats_resnet.npy', testing_image_feats_sparse)"
   ]
  },
  {
   "cell_type": "code",
   "execution_count": 8,
   "metadata": {
    "collapsed": false
   },
   "outputs": [
    {
     "data": {
      "text/plain": [
       "150556"
      ]
     },
     "execution_count": 8,
     "metadata": {},
     "output_type": "execute_result"
    }
   ],
   "source": [
    "len(testing_y)"
   ]
  },
  {
   "cell_type": "code",
   "execution_count": 23,
   "metadata": {
    "collapsed": false
   },
   "outputs": [
    {
     "data": {
      "text/plain": [
       "75278"
      ]
     },
     "execution_count": 23,
     "metadata": {},
     "output_type": "execute_result"
    }
   ],
   "source": [
    "sum(testing_y)"
   ]
  },
  {
   "cell_type": "code",
   "execution_count": 20,
   "metadata": {
    "collapsed": false
   },
   "outputs": [
    {
     "data": {
      "text/plain": [
       "{u'caption': u'A long restaurant table with rattan rounded back chairs.',\n",
       " u'foil_id': 2000001,\n",
       " u'foil_word': u'ORIG',\n",
       " u'id': 789366,\n",
       " u'image_id': 57870,\n",
       " u'target_word': u'ORIG'}"
      ]
     },
     "execution_count": 20,
     "metadata": {},
     "output_type": "execute_result"
    }
   ],
   "source": [
    "foil_train['annotations'][0]"
   ]
  },
  {
   "cell_type": "code",
   "execution_count": 21,
   "metadata": {
    "collapsed": false
   },
   "outputs": [
    {
     "data": {
      "text/plain": [
       "487025"
      ]
     },
     "execution_count": 21,
     "metadata": {},
     "output_type": "execute_result"
    }
   ],
   "source": [
    "int(w.strip().split(' ')[0].split('.jpg')[0].split('/data/mscoco/images/train/COCO_train2014_')[1])"
   ]
  },
  {
   "cell_type": "code",
   "execution_count": 31,
   "metadata": {
    "collapsed": false
   },
   "outputs": [
    {
     "data": {
      "text/plain": [
       "21265000"
      ]
     },
     "execution_count": 31,
     "metadata": {},
     "output_type": "execute_result"
    }
   ],
   "source": [
    "len(w.strip().split(' ')[1:])"
   ]
  },
  {
   "cell_type": "code",
   "execution_count": null,
   "metadata": {
    "collapsed": true
   },
   "outputs": [],
   "source": []
  }
 ],
 "metadata": {
  "kernelspec": {
   "display_name": "Python 2",
   "language": "python",
   "name": "python2"
  },
  "language_info": {
   "codemirror_mode": {
    "name": "ipython",
    "version": 2
   },
   "file_extension": ".py",
   "mimetype": "text/x-python",
   "name": "python",
   "nbconvert_exporter": "python",
   "pygments_lexer": "ipython2",
   "version": "2.7.12"
  }
 },
 "nbformat": 4,
 "nbformat_minor": 2
}
